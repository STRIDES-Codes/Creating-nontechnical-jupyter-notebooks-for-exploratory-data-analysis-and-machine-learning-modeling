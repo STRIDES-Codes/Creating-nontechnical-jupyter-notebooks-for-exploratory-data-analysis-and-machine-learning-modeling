{
 "metadata": {
  "language_info": {
   "codemirror_mode": {
    "name": "ipython",
    "version": 3
   },
   "file_extension": ".py",
   "mimetype": "text/x-python",
   "name": "python",
   "nbconvert_exporter": "python",
   "pygments_lexer": "ipython3",
   "version": "3.8.3-final"
  },
  "orig_nbformat": 2,
  "kernelspec": {
   "name": "target",
   "display_name": "target"
  }
 },
 "nbformat": 4,
 "nbformat_minor": 2,
 "cells": [
  {
   "cell_type": "code",
   "execution_count": 1,
   "metadata": {},
   "outputs": [],
   "source": [
    "from src.api import analysis as api\n",
    "from src.app import App"
   ]
  },
  {
   "cell_type": "code",
   "execution_count": 2,
   "metadata": {},
   "outputs": [
    {
     "output_type": "display_data",
     "data": {
      "text/plain": "Tab(children=(VBox(children=(Output(),)), VBox(children=(Output(),))), _titles={'0': 'Data', '1': 'log'})",
      "application/vnd.jupyter.widget-view+json": {
       "version_major": 2,
       "version_minor": 0,
       "model_id": "107bd730d39e43548034b867f78cc4ca"
      }
     },
     "metadata": {}
    }
   ],
   "source": [
    "app = App()\n",
    "data_tab = app.add_tab('Data')\n",
    "\n",
    "\n",
    "data_context = data_tab.add_child()\n",
    "log_tab = app.add_tab('log')\n",
    "log_context = log_tab.add_child()\n",
    "def log_fcn(*args):\n",
    "    log_context.append_stdout(' '.join([str(arg) for arg in args]))\n",
    "app.container"
   ]
  },
  {
   "cell_type": "code",
   "execution_count": null,
   "metadata": {},
   "outputs": [],
   "source": []
  }
 ]
}