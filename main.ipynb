{
 "metadata": {
  "language_info": {
   "codemirror_mode": {
    "name": "ipython",
    "version": 3
   },
   "file_extension": ".py",
   "mimetype": "text/x-python",
   "name": "python",
   "nbconvert_exporter": "python",
   "pygments_lexer": "ipython3",
   "version": "3.8.3-final"
  },
  "orig_nbformat": 2,
  "kernelspec": {
   "name": "target",
   "display_name": "target"
  }
 },
 "nbformat": 4,
 "nbformat_minor": 2,
 "cells": [
  {
   "cell_type": "code",
   "execution_count": 1,
   "metadata": {},
   "outputs": [],
   "source": [
    "from src.api import analysis as api\n",
    "from src.app import App\n",
    "import ipywidgets as widgets"
   ]
  },
  {
   "cell_type": "code",
   "execution_count": 3,
   "metadata": {},
   "outputs": [],
   "source": [
    "app = App()"
   ]
  },
  {
   "cell_type": "code",
   "execution_count": 4,
   "metadata": {},
   "outputs": [
    {
     "output_type": "error",
     "ename": "NameError",
     "evalue": "name 'df_samples' is not defined",
     "traceback": [
      "\u001b[0;31m---------------------------------------------------------------------------\u001b[0m",
      "\u001b[0;31mNameError\u001b[0m                                 Traceback (most recent call last)",
      "\u001b[0;32m<ipython-input-4-dbe480dfd065>\u001b[0m in \u001b[0;36m<module>\u001b[0;34m\u001b[0m\n\u001b[1;32m     19\u001b[0m     \u001b[0;32mreturn\u001b[0m \u001b[0mselectors\u001b[0m\u001b[0;34m\u001b[0m\u001b[0;34m\u001b[0m\u001b[0m\n\u001b[1;32m     20\u001b[0m \u001b[0;34m\u001b[0m\u001b[0m\n\u001b[0;32m---> 21\u001b[0;31m \u001b[0mproject_selectors\u001b[0m \u001b[0;34m=\u001b[0m \u001b[0madd_categorical_value_selector\u001b[0m\u001b[0;34m(\u001b[0m\u001b[0mdata_tab\u001b[0m\u001b[0;34m,\u001b[0m \u001b[0;34m'project id'\u001b[0m\u001b[0;34m,\u001b[0m \u001b[0;34m'Select Projects'\u001b[0m\u001b[0;34m)\u001b[0m\u001b[0;34m\u001b[0m\u001b[0;34m\u001b[0m\u001b[0m\n\u001b[0m\u001b[1;32m     22\u001b[0m \u001b[0msample_type_selectors\u001b[0m \u001b[0;34m=\u001b[0m \u001b[0madd_categorical_value_selector\u001b[0m\u001b[0;34m(\u001b[0m\u001b[0mdata_tab\u001b[0m\u001b[0;34m,\u001b[0m \u001b[0;34m'sample type'\u001b[0m\u001b[0;34m,\u001b[0m \u001b[0;34m'Select Sample Types'\u001b[0m\u001b[0;34m)\u001b[0m\u001b[0;34m\u001b[0m\u001b[0;34m\u001b[0m\u001b[0m\n\u001b[1;32m     23\u001b[0m \u001b[0;34m\u001b[0m\u001b[0m\n",
      "\u001b[0;32m<ipython-input-4-dbe480dfd065>\u001b[0m in \u001b[0;36madd_categorical_value_selector\u001b[0;34m(tab, column_name, title)\u001b[0m\n\u001b[1;32m      2\u001b[0m \u001b[0;34m\u001b[0m\u001b[0m\n\u001b[1;32m      3\u001b[0m \u001b[0;32mdef\u001b[0m \u001b[0madd_categorical_value_selector\u001b[0m\u001b[0;34m(\u001b[0m\u001b[0mtab\u001b[0m\u001b[0;34m,\u001b[0m \u001b[0mcolumn_name\u001b[0m\u001b[0;34m,\u001b[0m \u001b[0mtitle\u001b[0m\u001b[0;34m)\u001b[0m\u001b[0;34m:\u001b[0m\u001b[0;34m\u001b[0m\u001b[0;34m\u001b[0m\u001b[0m\n\u001b[0;32m----> 4\u001b[0;31m     \u001b[0mallowed_values\u001b[0m \u001b[0;34m=\u001b[0m \u001b[0mdf_samples\u001b[0m\u001b[0;34m[\u001b[0m\u001b[0mcolumn_name\u001b[0m\u001b[0;34m]\u001b[0m\u001b[0;34m.\u001b[0m\u001b[0munique\u001b[0m\u001b[0;34m(\u001b[0m\u001b[0;34m)\u001b[0m\u001b[0;34m\u001b[0m\u001b[0;34m\u001b[0m\u001b[0m\n\u001b[0m\u001b[1;32m      5\u001b[0m     \u001b[0mselectors\u001b[0m \u001b[0;34m=\u001b[0m \u001b[0;34m{\u001b[0m\u001b[0;34m}\u001b[0m\u001b[0;34m\u001b[0m\u001b[0;34m\u001b[0m\u001b[0m\n\u001b[1;32m      6\u001b[0m \u001b[0;34m\u001b[0m\u001b[0m\n",
      "\u001b[0;31mNameError\u001b[0m: name 'df_samples' is not defined"
     ]
    }
   ],
   "source": [
    "\n",
    "data_tab = app.add_tab('Data')\n",
    "\n",
    "def add_categorical_value_selector(tab, column_name, title):\n",
    "    allowed_values = app.df_samples[column_name].unique()\n",
    "    selectors = {}\n",
    "\n",
    "    data_tab.add_child(widgets.Label(value=title))\n",
    "    for value in allowed_values:\n",
    "        selector = widgets.Checkbox(\n",
    "            value=True,\n",
    "            description=value,\n",
    "            disabled=False,\n",
    "            indent=False\n",
    "        )\n",
    "\n",
    "        selectors[value] = selector\n",
    "        data_tab.add_child(selector)\n",
    "\n",
    "    return selectors\n",
    "\n",
    "project_selectors = add_categorical_value_selector(data_tab, 'project id', 'Select Projects')\n",
    "sample_type_selectors = add_categorical_value_selector(data_tab, 'sample type', 'Select Sample Types')\n",
    "\n",
    "data_context = data_tab.add_child()\n",
    "log_tab = app.add_tab('log')\n",
    "log_context = log_tab.add_child()\n",
    "def log_fcn(*args):\n",
    "    log_context.append_stdout(' '.join([str(arg) for arg in args]))\n",
    "app.container"
   ]
  },
  {
   "cell_type": "code",
   "execution_count": 6,
   "metadata": {},
   "outputs": [],
   "source": [
    "df_samples, df_counts, df_fpkm, df_fpkm_uq = api.get_data()\n"
   ]
  },
  {
   "cell_type": "code",
   "execution_count": 7,
   "metadata": {},
   "outputs": [],
   "source": [
    "data_context.clear_output(wait=True)\n",
    "with data_context:\n",
    "    api.perform_eda(df_samples, log_fcn=log_fcn)"
   ]
  },
  {
   "cell_type": "code",
   "execution_count": null,
   "metadata": {},
   "outputs": [],
   "source": []
  }
 ]
}